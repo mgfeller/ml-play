{
 "cells": [
  {
   "cell_type": "code",
   "execution_count": 1,
   "metadata": {},
   "outputs": [
    {
     "name": "stdout",
     "output_type": "stream",
     "text": [
      "1.3.0\n"
     ]
    }
   ],
   "source": [
    "# https://www.tensorflow.org/get_started/input_fn\n",
    "import itertools\n",
    "\n",
    "import pandas as pd\n",
    "import tensorflow as tf\n",
    "\n",
    "tf.logging.set_verbosity(tf.logging.INFO)\n",
    "\n",
    "print(tf.__version__)"
   ]
  },
  {
   "cell_type": "code",
   "execution_count": 2,
   "metadata": {},
   "outputs": [],
   "source": [
    "COLUMNS = [\"crim\", \"zn\", \"indus\", \"nox\", \"rm\", \"age\",\n",
    "           \"dis\", \"tax\", \"ptratio\", \"medv\"]\n",
    "FEATURES = [\"crim\", \"zn\", \"indus\", \"nox\", \"rm\",\n",
    "            \"age\", \"dis\", \"tax\", \"ptratio\"]\n",
    "LABEL = \"medv\"\n",
    "\n",
    "training_set = pd.read_csv(\"boston_train.csv\", skipinitialspace=True,\n",
    "                           skiprows=1, names=COLUMNS)\n",
    "test_set = pd.read_csv(\"boston_test.csv\", skipinitialspace=True,\n",
    "                       skiprows=1, names=COLUMNS)\n",
    "prediction_set = pd.read_csv(\"boston_predict.csv\", skipinitialspace=True,\n",
    "                             skiprows=1, names=COLUMNS)\n"
   ]
  },
  {
   "cell_type": "code",
   "execution_count": 3,
   "metadata": {},
   "outputs": [],
   "source": [
    "feature_cols = [tf.feature_column.numeric_column(k) for k in FEATURES]\n"
   ]
  },
  {
   "cell_type": "code",
   "execution_count": 4,
   "metadata": {},
   "outputs": [
    {
     "name": "stdout",
     "output_type": "stream",
     "text": [
      "INFO:tensorflow:Using default config.\n",
      "INFO:tensorflow:Using config: {'_model_dir': '/tmp/boston_model', '_tf_random_seed': 1, '_save_summary_steps': 100, '_save_checkpoints_secs': 600, '_save_checkpoints_steps': None, '_session_config': None, '_keep_checkpoint_max': 5, '_keep_checkpoint_every_n_hours': 10000, '_log_step_count_steps': 100}\n"
     ]
    }
   ],
   "source": [
    "regressor = tf.estimator.DNNRegressor(feature_columns=feature_cols,\n",
    "                                      hidden_units=[10, 10],\n",
    "                                      model_dir=\"/tmp/boston_model\")"
   ]
  },
  {
   "cell_type": "code",
   "execution_count": 5,
   "metadata": {},
   "outputs": [],
   "source": [
    "def get_input_fn(data_set, num_epochs=None, shuffle=True):\n",
    "  return tf.estimator.inputs.pandas_input_fn(\n",
    "      x=pd.DataFrame({k: data_set[k].values for k in FEATURES}),\n",
    "      y = pd.Series(data_set[LABEL].values),\n",
    "      num_epochs=num_epochs,\n",
    "      shuffle=shuffle)\n"
   ]
  },
  {
   "cell_type": "code",
   "execution_count": 6,
   "metadata": {},
   "outputs": [
    {
     "name": "stdout",
     "output_type": "stream",
     "text": [
      "INFO:tensorflow:Create CheckpointSaverHook.\n",
      "INFO:tensorflow:Restoring parameters from /tmp/boston_model\\model.ckpt-5000\n",
      "INFO:tensorflow:Saving checkpoints for 5001 into /tmp/boston_model\\model.ckpt.\n",
      "INFO:tensorflow:loss = 4842.4, step = 5001\n",
      "INFO:tensorflow:global_step/sec: 336.858\n",
      "INFO:tensorflow:loss = 1833.51, step = 5101 (0.312 sec)\n",
      "INFO:tensorflow:global_step/sec: 376.467\n",
      "INFO:tensorflow:loss = 4906.4, step = 5201 (0.266 sec)\n",
      "INFO:tensorflow:global_step/sec: 376.465\n",
      "INFO:tensorflow:loss = 1721.18, step = 5301 (0.250 sec)\n",
      "INFO:tensorflow:global_step/sec: 376.451\n",
      "INFO:tensorflow:loss = 2395.58, step = 5401 (0.266 sec)\n",
      "INFO:tensorflow:global_step/sec: 355.552\n",
      "INFO:tensorflow:loss = 3667.7, step = 5501 (0.281 sec)\n",
      "INFO:tensorflow:global_step/sec: 355.567\n",
      "INFO:tensorflow:loss = 4810.99, step = 5601 (0.281 sec)\n",
      "INFO:tensorflow:global_step/sec: 355.55\n",
      "INFO:tensorflow:loss = 5795.88, step = 5701 (0.281 sec)\n",
      "INFO:tensorflow:global_step/sec: 376.467\n",
      "INFO:tensorflow:loss = 4140.93, step = 5801 (0.281 sec)\n",
      "INFO:tensorflow:global_step/sec: 376.465\n",
      "INFO:tensorflow:loss = 4960.49, step = 5901 (0.250 sec)\n",
      "INFO:tensorflow:global_step/sec: 376.469\n",
      "INFO:tensorflow:loss = 3641.3, step = 6001 (0.281 sec)\n",
      "INFO:tensorflow:global_step/sec: 376.467\n",
      "INFO:tensorflow:loss = 2463.45, step = 6101 (0.250 sec)\n",
      "INFO:tensorflow:global_step/sec: 355.552\n",
      "INFO:tensorflow:loss = 3798.18, step = 6201 (0.281 sec)\n",
      "INFO:tensorflow:global_step/sec: 376.452\n",
      "INFO:tensorflow:loss = 3043.69, step = 6301 (0.281 sec)\n",
      "INFO:tensorflow:global_step/sec: 355.566\n",
      "INFO:tensorflow:loss = 4434.86, step = 6401 (0.266 sec)\n",
      "INFO:tensorflow:global_step/sec: 376.451\n",
      "INFO:tensorflow:loss = 1891.3, step = 6501 (0.281 sec)\n",
      "INFO:tensorflow:global_step/sec: 355.553\n",
      "INFO:tensorflow:loss = 3453.01, step = 6601 (0.266 sec)\n",
      "INFO:tensorflow:global_step/sec: 376.484\n",
      "INFO:tensorflow:loss = 4909.9, step = 6701 (0.281 sec)\n",
      "INFO:tensorflow:global_step/sec: 336.822\n",
      "INFO:tensorflow:loss = 2978.15, step = 6801 (0.281 sec)\n",
      "INFO:tensorflow:global_step/sec: 355.555\n",
      "INFO:tensorflow:loss = 3311.42, step = 6901 (0.281 sec)\n",
      "INFO:tensorflow:global_step/sec: 376.466\n",
      "INFO:tensorflow:loss = 1672.43, step = 7001 (0.266 sec)\n",
      "INFO:tensorflow:global_step/sec: 355.553\n",
      "INFO:tensorflow:loss = 3051.09, step = 7101 (0.281 sec)\n",
      "INFO:tensorflow:global_step/sec: 376.484\n",
      "INFO:tensorflow:loss = 2137.45, step = 7201 (0.281 sec)\n",
      "INFO:tensorflow:global_step/sec: 355.55\n",
      "INFO:tensorflow:loss = 2881.65, step = 7301 (0.266 sec)\n",
      "INFO:tensorflow:global_step/sec: 355.554\n",
      "INFO:tensorflow:loss = 4342.44, step = 7401 (0.281 sec)\n",
      "INFO:tensorflow:global_step/sec: 376.449\n",
      "INFO:tensorflow:loss = 3689.91, step = 7501 (0.266 sec)\n",
      "INFO:tensorflow:global_step/sec: 355.568\n",
      "INFO:tensorflow:loss = 1986.39, step = 7601 (0.281 sec)\n",
      "INFO:tensorflow:global_step/sec: 355.55\n",
      "INFO:tensorflow:loss = 3648.22, step = 7701 (0.281 sec)\n",
      "INFO:tensorflow:global_step/sec: 376.451\n",
      "INFO:tensorflow:loss = 4690.24, step = 7801 (0.266 sec)\n",
      "INFO:tensorflow:global_step/sec: 376.482\n",
      "INFO:tensorflow:loss = 4873.94, step = 7901 (0.281 sec)\n",
      "INFO:tensorflow:global_step/sec: 355.553\n",
      "INFO:tensorflow:loss = 1707.05, step = 8001 (0.266 sec)\n",
      "INFO:tensorflow:global_step/sec: 376.466\n",
      "INFO:tensorflow:loss = 2890.76, step = 8101 (0.266 sec)\n",
      "INFO:tensorflow:global_step/sec: 376.467\n",
      "INFO:tensorflow:loss = 2003.71, step = 8201 (0.266 sec)\n",
      "INFO:tensorflow:global_step/sec: 376.451\n",
      "INFO:tensorflow:loss = 3696.24, step = 8301 (0.266 sec)\n",
      "INFO:tensorflow:global_step/sec: 355.566\n",
      "INFO:tensorflow:loss = 2603.63, step = 8401 (0.281 sec)\n",
      "INFO:tensorflow:global_step/sec: 376.452\n",
      "INFO:tensorflow:loss = 3297.48, step = 8501 (0.266 sec)\n",
      "INFO:tensorflow:global_step/sec: 355.567\n",
      "INFO:tensorflow:loss = 3953.11, step = 8601 (0.281 sec)\n",
      "INFO:tensorflow:global_step/sec: 376.454\n",
      "INFO:tensorflow:loss = 5106.72, step = 8701 (0.266 sec)\n",
      "INFO:tensorflow:global_step/sec: 376.477\n",
      "INFO:tensorflow:loss = 2901.61, step = 8801 (0.266 sec)\n",
      "INFO:tensorflow:global_step/sec: 376.47\n",
      "INFO:tensorflow:loss = 4375.43, step = 8901 (0.281 sec)\n",
      "INFO:tensorflow:global_step/sec: 355.548\n",
      "INFO:tensorflow:loss = 2686.01, step = 9001 (0.266 sec)\n",
      "INFO:tensorflow:global_step/sec: 376.472\n",
      "INFO:tensorflow:loss = 2720.85, step = 9101 (0.281 sec)\n",
      "INFO:tensorflow:global_step/sec: 355.551\n",
      "INFO:tensorflow:loss = 4049.88, step = 9201 (0.266 sec)\n",
      "INFO:tensorflow:global_step/sec: 355.552\n",
      "INFO:tensorflow:loss = 3196.49, step = 9301 (0.281 sec)\n",
      "INFO:tensorflow:global_step/sec: 376.451\n",
      "INFO:tensorflow:loss = 5993.42, step = 9401 (0.266 sec)\n",
      "INFO:tensorflow:global_step/sec: 376.467\n",
      "INFO:tensorflow:loss = 5129.22, step = 9501 (0.266 sec)\n",
      "INFO:tensorflow:global_step/sec: 376.483\n",
      "INFO:tensorflow:loss = 3928.57, step = 9601 (0.281 sec)\n",
      "INFO:tensorflow:global_step/sec: 355.538\n",
      "INFO:tensorflow:loss = 5416.95, step = 9701 (0.266 sec)\n",
      "INFO:tensorflow:global_step/sec: 376.483\n",
      "INFO:tensorflow:loss = 3029.09, step = 9801 (0.266 sec)\n",
      "INFO:tensorflow:global_step/sec: 355.551\n",
      "INFO:tensorflow:loss = 2494.35, step = 9901 (0.281 sec)\n",
      "INFO:tensorflow:Saving checkpoints for 10000 into /tmp/boston_model\\model.ckpt.\n",
      "INFO:tensorflow:Loss for final step: 3165.69.\n"
     ]
    },
    {
     "data": {
      "text/plain": [
       "<tensorflow.python.estimator.canned.dnn.DNNRegressor at 0x28b48f8ab70>"
      ]
     },
     "execution_count": 6,
     "metadata": {},
     "output_type": "execute_result"
    }
   ],
   "source": [
    "regressor.train(input_fn=get_input_fn(training_set), steps=5000)"
   ]
  },
  {
   "cell_type": "code",
   "execution_count": 8,
   "metadata": {},
   "outputs": [
    {
     "name": "stdout",
     "output_type": "stream",
     "text": [
      "INFO:tensorflow:Starting evaluation at 2017-10-05-18:04:58\n",
      "INFO:tensorflow:Restoring parameters from /tmp/boston_model\\model.ckpt-5000\n",
      "INFO:tensorflow:Finished evaluation at 2017-10-05-18:04:58\n",
      "INFO:tensorflow:Saving dict for global step 5000: average_loss = 14.9884, global_step = 5000, loss = 1498.84\n"
     ]
    }
   ],
   "source": [
    "ev = regressor.evaluate(\n",
    "    input_fn=get_input_fn(test_set, num_epochs=1, shuffle=False))"
   ]
  },
  {
   "cell_type": "code",
   "execution_count": 9,
   "metadata": {},
   "outputs": [
    {
     "name": "stdout",
     "output_type": "stream",
     "text": [
      "Loss: 1498.842529\n"
     ]
    }
   ],
   "source": [
    "loss_score = ev[\"loss\"]\n",
    "print(\"Loss: {0:f}\".format(loss_score))"
   ]
  },
  {
   "cell_type": "code",
   "execution_count": 10,
   "metadata": {},
   "outputs": [
    {
     "name": "stdout",
     "output_type": "stream",
     "text": [
      "INFO:tensorflow:Restoring parameters from /tmp/boston_model\\model.ckpt-5000\n",
      "Predictions: [array([ 33.69565964], dtype=float32), array([ 18.10408783], dtype=float32), array([ 23.69057846], dtype=float32), array([ 34.9368248], dtype=float32), array([ 15.36082363], dtype=float32), array([ 20.06808472], dtype=float32)]\n"
     ]
    }
   ],
   "source": [
    "y = regressor.predict(\n",
    "    input_fn=get_input_fn(prediction_set, num_epochs=1, shuffle=False))\n",
    "# .predict() returns an iterator of dicts; convert to a list and print\n",
    "# predictions\n",
    "predictions = list(p[\"predictions\"] for p in itertools.islice(y, 6))\n",
    "print(\"Predictions: {}\".format(str(predictions)))\n"
   ]
  },
  {
   "cell_type": "code",
   "execution_count": 11,
   "metadata": {
    "collapsed": true
   },
   "outputs": [],
   "source": [
    "x=pd.DataFrame({k: training_set[k].values for k in FEATURES})"
   ]
  },
  {
   "cell_type": "code",
   "execution_count": 17,
   "metadata": {},
   "outputs": [
    {
     "name": "stdout",
     "output_type": "stream",
     "text": [
      "    age      crim      dis  indus     nox  ptratio     rm  tax    zn\n",
      "0  96.1   2.30040   2.1000  19.58  0.6050     14.7  6.319  403   0.0\n",
      "1  94.7  13.35980   1.7821  18.10  0.6930     20.2  5.887  666   0.0\n",
      "2   2.9   0.12744   5.7209   6.91  0.4480     17.9  6.770  233   0.0\n",
      "3  17.5   0.15876   5.2873  10.81  0.4130     19.2  5.961  305   0.0\n",
      "4  38.3   0.03768   7.3090   1.52  0.4040     12.6  7.274  329  80.0\n",
      "5  37.2   0.03705   5.2447   3.33  0.4429     14.9  6.968  216  20.0\n",
      "6  18.5   0.07244  10.7103   1.69  0.4110     18.3  5.884  411  60.0\n",
      "7  17.7   0.10000   5.4917   6.09  0.4330     16.1  6.982  329  34.0\n",
      "8  90.0   4.81213   2.5975  18.10  0.7130     20.2  6.701  666   0.0\n",
      "9  92.7   0.15086   1.8209  27.74  0.6090     20.1  5.454  711   0.0\n"
     ]
    }
   ],
   "source": [
    "print(x[:10])"
   ]
  },
  {
   "cell_type": "code",
   "execution_count": 21,
   "metadata": {},
   "outputs": [
    {
     "name": "stdout",
     "output_type": "stream",
     "text": [
      "0     2.30040\n",
      "1    13.35980\n",
      "2     0.12744\n",
      "3     0.15876\n",
      "4     0.03768\n",
      "5     0.03705\n",
      "6     0.07244\n",
      "7     0.10000\n",
      "8     4.81213\n",
      "9     0.15086\n",
      "Name: crim, dtype: float64\n"
     ]
    }
   ],
   "source": [
    "print(x[\"crim\"][:10])"
   ]
  },
  {
   "cell_type": "code",
   "execution_count": null,
   "metadata": {
    "collapsed": true
   },
   "outputs": [],
   "source": []
  },
  {
   "cell_type": "code",
   "execution_count": null,
   "metadata": {
    "collapsed": true
   },
   "outputs": [],
   "source": []
  }
 ],
 "metadata": {
  "kernelspec": {
   "display_name": "Python 3",
   "language": "python",
   "name": "python3"
  },
  "language_info": {
   "codemirror_mode": {
    "name": "ipython",
    "version": 3
   },
   "file_extension": ".py",
   "mimetype": "text/x-python",
   "name": "python",
   "nbconvert_exporter": "python",
   "pygments_lexer": "ipython3",
   "version": "3.6.3"
  }
 },
 "nbformat": 4,
 "nbformat_minor": 2
}
