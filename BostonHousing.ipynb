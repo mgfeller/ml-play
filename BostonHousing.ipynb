{
 "cells": [
  {
   "cell_type": "code",
   "execution_count": 1,
   "metadata": {
    "collapsed": true
   },
   "outputs": [],
   "source": [
    "# https://www.tensorflow.org/get_started/input_fn\n",
    "import itertools\n",
    "\n",
    "import pandas as pd\n",
    "import tensorflow as tf\n",
    "\n",
    "tf.logging.set_verbosity(tf.logging.INFO)"
   ]
  },
  {
   "cell_type": "code",
   "execution_count": 3,
   "metadata": {},
   "outputs": [],
   "source": [
    "COLUMNS = [\"crim\", \"zn\", \"indus\", \"nox\", \"rm\", \"age\",\n",
    "           \"dis\", \"tax\", \"ptratio\", \"medv\"]\n",
    "FEATURES = [\"crim\", \"zn\", \"indus\", \"nox\", \"rm\",\n",
    "            \"age\", \"dis\", \"tax\", \"ptratio\"]\n",
    "LABEL = \"medv\"\n",
    "\n",
    "training_set = pd.read_csv(\"boston_train.csv\", skipinitialspace=True,\n",
    "                           skiprows=1, names=COLUMNS)\n",
    "test_set = pd.read_csv(\"boston_test.csv\", skipinitialspace=True,\n",
    "                       skiprows=1, names=COLUMNS)\n",
    "prediction_set = pd.read_csv(\"boston_predict.csv\", skipinitialspace=True,\n",
    "                             skiprows=1, names=COLUMNS)\n"
   ]
  },
  {
   "cell_type": "code",
   "execution_count": 4,
   "metadata": {
    "collapsed": true
   },
   "outputs": [],
   "source": [
    "feature_cols = [tf.feature_column.numeric_column(k) for k in FEATURES]\n"
   ]
  },
  {
   "cell_type": "code",
   "execution_count": 5,
   "metadata": {},
   "outputs": [
    {
     "name": "stdout",
     "output_type": "stream",
     "text": [
      "INFO:tensorflow:Using default config.\n",
      "INFO:tensorflow:Using config: {'_model_dir': '/tmp/boston_model', '_tf_random_seed': 1, '_save_summary_steps': 100, '_save_checkpoints_secs': 600, '_save_checkpoints_steps': None, '_session_config': None, '_keep_checkpoint_max': 5, '_keep_checkpoint_every_n_hours': 10000, '_log_step_count_steps': 100}\n"
     ]
    }
   ],
   "source": [
    "regressor = tf.estimator.DNNRegressor(feature_columns=feature_cols,\n",
    "                                      hidden_units=[10, 10],\n",
    "                                      model_dir=\"/tmp/boston_model\")"
   ]
  },
  {
   "cell_type": "code",
   "execution_count": 6,
   "metadata": {
    "collapsed": true
   },
   "outputs": [],
   "source": [
    "def get_input_fn(data_set, num_epochs=None, shuffle=True):\n",
    "  return tf.estimator.inputs.pandas_input_fn(\n",
    "      x=pd.DataFrame({k: data_set[k].values for k in FEATURES}),\n",
    "      y = pd.Series(data_set[LABEL].values),\n",
    "      num_epochs=num_epochs,\n",
    "      shuffle=shuffle)\n"
   ]
  },
  {
   "cell_type": "code",
   "execution_count": 7,
   "metadata": {},
   "outputs": [
    {
     "name": "stdout",
     "output_type": "stream",
     "text": [
      "INFO:tensorflow:Create CheckpointSaverHook.\n",
      "INFO:tensorflow:Saving checkpoints for 1 into /tmp/boston_model\\model.ckpt.\n",
      "INFO:tensorflow:loss = 53678.6, step = 1\n",
      "INFO:tensorflow:global_step/sec: 492.394\n",
      "INFO:tensorflow:loss = 9471.59, step = 101 (0.203 sec)\n",
      "INFO:tensorflow:global_step/sec: 639.992\n",
      "INFO:tensorflow:loss = 10588.7, step = 201 (0.172 sec)\n",
      "INFO:tensorflow:global_step/sec: 581.783\n",
      "INFO:tensorflow:loss = 10100.0, step = 301 (0.156 sec)\n",
      "INFO:tensorflow:global_step/sec: 640.036\n",
      "INFO:tensorflow:loss = 9972.9, step = 401 (0.156 sec)\n",
      "INFO:tensorflow:global_step/sec: 639.955\n",
      "INFO:tensorflow:loss = 8461.61, step = 501 (0.156 sec)\n",
      "INFO:tensorflow:global_step/sec: 640.035\n",
      "INFO:tensorflow:loss = 9097.31, step = 601 (0.156 sec)\n",
      "INFO:tensorflow:global_step/sec: 581.813\n",
      "INFO:tensorflow:loss = 8218.45, step = 701 (0.172 sec)\n",
      "INFO:tensorflow:global_step/sec: 639.986\n",
      "INFO:tensorflow:loss = 6889.53, step = 801 (0.156 sec)\n",
      "INFO:tensorflow:global_step/sec: 492.308\n",
      "INFO:tensorflow:loss = 9430.98, step = 901 (0.203 sec)\n",
      "INFO:tensorflow:global_step/sec: 581.809\n",
      "INFO:tensorflow:loss = 7985.53, step = 1001 (0.172 sec)\n",
      "INFO:tensorflow:global_step/sec: 533.317\n",
      "INFO:tensorflow:loss = 7381.65, step = 1101 (0.203 sec)\n",
      "INFO:tensorflow:global_step/sec: 533.344\n",
      "INFO:tensorflow:loss = 10523.9, step = 1201 (0.172 sec)\n",
      "INFO:tensorflow:global_step/sec: 639.991\n",
      "INFO:tensorflow:loss = 5829.33, step = 1301 (0.156 sec)\n",
      "INFO:tensorflow:global_step/sec: 581.818\n",
      "INFO:tensorflow:loss = 5838.56, step = 1401 (0.172 sec)\n",
      "INFO:tensorflow:global_step/sec: 581.779\n",
      "INFO:tensorflow:loss = 4351.93, step = 1501 (0.172 sec)\n",
      "INFO:tensorflow:global_step/sec: 639.968\n",
      "INFO:tensorflow:loss = 6285.96, step = 1601 (0.156 sec)\n",
      "INFO:tensorflow:global_step/sec: 581.871\n",
      "INFO:tensorflow:loss = 7361.86, step = 1701 (0.187 sec)\n",
      "INFO:tensorflow:global_step/sec: 581.811\n",
      "INFO:tensorflow:loss = 5093.7, step = 1801 (0.172 sec)\n",
      "INFO:tensorflow:global_step/sec: 581.817\n",
      "INFO:tensorflow:loss = 4274.12, step = 1901 (0.156 sec)\n",
      "INFO:tensorflow:global_step/sec: 639.992\n",
      "INFO:tensorflow:loss = 3856.34, step = 2001 (0.156 sec)\n",
      "INFO:tensorflow:global_step/sec: 639.993\n",
      "INFO:tensorflow:loss = 3978.35, step = 2101 (0.156 sec)\n",
      "INFO:tensorflow:global_step/sec: 581.813\n",
      "INFO:tensorflow:loss = 4751.3, step = 2201 (0.172 sec)\n",
      "INFO:tensorflow:global_step/sec: 639.996\n",
      "INFO:tensorflow:loss = 5863.61, step = 2301 (0.156 sec)\n",
      "INFO:tensorflow:global_step/sec: 581.811\n",
      "INFO:tensorflow:loss = 4066.99, step = 2401 (0.172 sec)\n",
      "INFO:tensorflow:global_step/sec: 533.306\n",
      "INFO:tensorflow:loss = 4088.49, step = 2501 (0.188 sec)\n",
      "INFO:tensorflow:global_step/sec: 711.109\n",
      "INFO:tensorflow:loss = 3903.19, step = 2601 (0.156 sec)\n",
      "INFO:tensorflow:global_step/sec: 581.812\n",
      "INFO:tensorflow:loss = 2728.62, step = 2701 (0.156 sec)\n",
      "INFO:tensorflow:global_step/sec: 639.986\n",
      "INFO:tensorflow:loss = 4522.88, step = 2801 (0.156 sec)\n",
      "INFO:tensorflow:global_step/sec: 640.042\n",
      "INFO:tensorflow:loss = 4293.58, step = 2901 (0.156 sec)\n",
      "INFO:tensorflow:global_step/sec: 581.782\n",
      "INFO:tensorflow:loss = 6498.88, step = 3001 (0.172 sec)\n",
      "INFO:tensorflow:global_step/sec: 640.035\n",
      "INFO:tensorflow:loss = 3358.24, step = 3101 (0.156 sec)\n",
      "INFO:tensorflow:global_step/sec: 639.955\n",
      "INFO:tensorflow:loss = 3850.73, step = 3201 (0.156 sec)\n",
      "INFO:tensorflow:global_step/sec: 711.155\n",
      "INFO:tensorflow:loss = 3141.19, step = 3301 (0.156 sec)\n",
      "INFO:tensorflow:global_step/sec: 581.813\n",
      "INFO:tensorflow:loss = 3240.08, step = 3401 (0.156 sec)\n",
      "INFO:tensorflow:global_step/sec: 639.993\n",
      "INFO:tensorflow:loss = 3432.9, step = 3501 (0.156 sec)\n",
      "INFO:tensorflow:global_step/sec: 581.781\n",
      "INFO:tensorflow:loss = 5685.42, step = 3601 (0.172 sec)\n",
      "INFO:tensorflow:global_step/sec: 581.804\n",
      "INFO:tensorflow:loss = 3259.14, step = 3701 (0.172 sec)\n",
      "INFO:tensorflow:global_step/sec: 581.819\n",
      "INFO:tensorflow:loss = 3951.78, step = 3801 (0.172 sec)\n",
      "INFO:tensorflow:global_step/sec: 640.002\n",
      "INFO:tensorflow:loss = 3800.39, step = 3901 (0.156 sec)\n",
      "INFO:tensorflow:global_step/sec: 640.027\n",
      "INFO:tensorflow:loss = 6069.22, step = 4001 (0.172 sec)\n",
      "INFO:tensorflow:global_step/sec: 639.961\n",
      "INFO:tensorflow:loss = 2797.94, step = 4101 (0.156 sec)\n",
      "INFO:tensorflow:global_step/sec: 581.846\n",
      "INFO:tensorflow:loss = 5976.53, step = 4201 (0.156 sec)\n",
      "INFO:tensorflow:global_step/sec: 639.996\n",
      "INFO:tensorflow:loss = 3138.36, step = 4301 (0.172 sec)\n",
      "INFO:tensorflow:global_step/sec: 581.814\n",
      "INFO:tensorflow:loss = 4416.95, step = 4401 (0.156 sec)\n",
      "INFO:tensorflow:global_step/sec: 639.955\n",
      "INFO:tensorflow:loss = 5589.02, step = 4501 (0.156 sec)\n",
      "INFO:tensorflow:global_step/sec: 640.004\n",
      "INFO:tensorflow:loss = 3836.55, step = 4601 (0.156 sec)\n",
      "INFO:tensorflow:global_step/sec: 640.021\n",
      "INFO:tensorflow:loss = 3082.46, step = 4701 (0.156 sec)\n",
      "INFO:tensorflow:global_step/sec: 639.956\n",
      "INFO:tensorflow:loss = 3965.83, step = 4801 (0.156 sec)\n",
      "INFO:tensorflow:global_step/sec: 640.029\n",
      "INFO:tensorflow:loss = 2064.69, step = 4901 (0.156 sec)\n",
      "INFO:tensorflow:Saving checkpoints for 5000 into /tmp/boston_model\\model.ckpt.\n",
      "INFO:tensorflow:Loss for final step: 2574.31.\n"
     ]
    },
    {
     "data": {
      "text/plain": [
       "<tensorflow.python.estimator.canned.dnn.DNNRegressor at 0x23b90110320>"
      ]
     },
     "execution_count": 7,
     "metadata": {},
     "output_type": "execute_result"
    }
   ],
   "source": [
    "regressor.train(input_fn=get_input_fn(training_set), steps=5000)"
   ]
  },
  {
   "cell_type": "code",
   "execution_count": 8,
   "metadata": {},
   "outputs": [
    {
     "name": "stdout",
     "output_type": "stream",
     "text": [
      "INFO:tensorflow:Starting evaluation at 2017-10-05-18:04:58\n",
      "INFO:tensorflow:Restoring parameters from /tmp/boston_model\\model.ckpt-5000\n",
      "INFO:tensorflow:Finished evaluation at 2017-10-05-18:04:58\n",
      "INFO:tensorflow:Saving dict for global step 5000: average_loss = 14.9884, global_step = 5000, loss = 1498.84\n"
     ]
    }
   ],
   "source": [
    "ev = regressor.evaluate(\n",
    "    input_fn=get_input_fn(test_set, num_epochs=1, shuffle=False))"
   ]
  },
  {
   "cell_type": "code",
   "execution_count": 9,
   "metadata": {},
   "outputs": [
    {
     "name": "stdout",
     "output_type": "stream",
     "text": [
      "Loss: 1498.842529\n"
     ]
    }
   ],
   "source": [
    "loss_score = ev[\"loss\"]\n",
    "print(\"Loss: {0:f}\".format(loss_score))"
   ]
  },
  {
   "cell_type": "code",
   "execution_count": 10,
   "metadata": {},
   "outputs": [
    {
     "name": "stdout",
     "output_type": "stream",
     "text": [
      "INFO:tensorflow:Restoring parameters from /tmp/boston_model\\model.ckpt-5000\n",
      "Predictions: [array([ 33.69565964], dtype=float32), array([ 18.10408783], dtype=float32), array([ 23.69057846], dtype=float32), array([ 34.9368248], dtype=float32), array([ 15.36082363], dtype=float32), array([ 20.06808472], dtype=float32)]\n"
     ]
    }
   ],
   "source": [
    "y = regressor.predict(\n",
    "    input_fn=get_input_fn(prediction_set, num_epochs=1, shuffle=False))\n",
    "# .predict() returns an iterator of dicts; convert to a list and print\n",
    "# predictions\n",
    "predictions = list(p[\"predictions\"] for p in itertools.islice(y, 6))\n",
    "print(\"Predictions: {}\".format(str(predictions)))\n"
   ]
  },
  {
   "cell_type": "code",
   "execution_count": 11,
   "metadata": {
    "collapsed": true
   },
   "outputs": [],
   "source": [
    "x=pd.DataFrame({k: training_set[k].values for k in FEATURES})"
   ]
  },
  {
   "cell_type": "code",
   "execution_count": 17,
   "metadata": {},
   "outputs": [
    {
     "name": "stdout",
     "output_type": "stream",
     "text": [
      "    age      crim      dis  indus     nox  ptratio     rm  tax    zn\n",
      "0  96.1   2.30040   2.1000  19.58  0.6050     14.7  6.319  403   0.0\n",
      "1  94.7  13.35980   1.7821  18.10  0.6930     20.2  5.887  666   0.0\n",
      "2   2.9   0.12744   5.7209   6.91  0.4480     17.9  6.770  233   0.0\n",
      "3  17.5   0.15876   5.2873  10.81  0.4130     19.2  5.961  305   0.0\n",
      "4  38.3   0.03768   7.3090   1.52  0.4040     12.6  7.274  329  80.0\n",
      "5  37.2   0.03705   5.2447   3.33  0.4429     14.9  6.968  216  20.0\n",
      "6  18.5   0.07244  10.7103   1.69  0.4110     18.3  5.884  411  60.0\n",
      "7  17.7   0.10000   5.4917   6.09  0.4330     16.1  6.982  329  34.0\n",
      "8  90.0   4.81213   2.5975  18.10  0.7130     20.2  6.701  666   0.0\n",
      "9  92.7   0.15086   1.8209  27.74  0.6090     20.1  5.454  711   0.0\n"
     ]
    }
   ],
   "source": [
    "print(x[:10])"
   ]
  },
  {
   "cell_type": "code",
   "execution_count": 21,
   "metadata": {},
   "outputs": [
    {
     "name": "stdout",
     "output_type": "stream",
     "text": [
      "0     2.30040\n",
      "1    13.35980\n",
      "2     0.12744\n",
      "3     0.15876\n",
      "4     0.03768\n",
      "5     0.03705\n",
      "6     0.07244\n",
      "7     0.10000\n",
      "8     4.81213\n",
      "9     0.15086\n",
      "Name: crim, dtype: float64\n"
     ]
    }
   ],
   "source": [
    "print(x[\"crim\"][:10])"
   ]
  },
  {
   "cell_type": "code",
   "execution_count": null,
   "metadata": {
    "collapsed": true
   },
   "outputs": [],
   "source": []
  },
  {
   "cell_type": "code",
   "execution_count": null,
   "metadata": {
    "collapsed": true
   },
   "outputs": [],
   "source": []
  }
 ],
 "metadata": {
  "kernelspec": {
   "display_name": "Python 3",
   "language": "python",
   "name": "python3"
  },
  "language_info": {
   "codemirror_mode": {
    "name": "ipython",
    "version": 3
   },
   "file_extension": ".py",
   "mimetype": "text/x-python",
   "name": "python",
   "nbconvert_exporter": "python",
   "pygments_lexer": "ipython3",
   "version": "3.6.2"
  }
 },
 "nbformat": 4,
 "nbformat_minor": 2
}
