{
 "cells": [
  {
   "cell_type": "code",
   "execution_count": 1,
   "metadata": {},
   "outputs": [
    {
     "name": "stderr",
     "output_type": "stream",
     "text": [
      "Using Theano backend.\n"
     ]
    }
   ],
   "source": [
    "# MLP for Pima Indians Dataset with 10-fold cross validation via sklearn\n",
    "from keras.models import Sequential\n",
    "from keras.layers import Dense\n",
    "from keras.wrappers.scikit_learn import KerasClassifier\n",
    "from sklearn.model_selection import GridSearchCV\n",
    "import numpy"
   ]
  },
  {
   "cell_type": "code",
   "execution_count": 2,
   "metadata": {},
   "outputs": [],
   "source": [
    "# Function to create model, required for KerasClassifier\n",
    "def create_model(optimizer='rmsprop', init='glorot_uniform'):\n",
    "    # create model\n",
    "    model = Sequential()\n",
    "    model.add(Dense(12, input_dim=8, kernel_initializer=init, activation='relu'))\n",
    "    model.add(Dense(8, activation='relu'))\n",
    "    model.add(Dense(1, activation='sigmoid'))\n",
    "    # Compile model\n",
    "    model.compile(loss='binary_crossentropy', optimizer=optimizer, metrics=['accuracy'])\n",
    "    return model"
   ]
  },
  {
   "cell_type": "code",
   "execution_count": 3,
   "metadata": {},
   "outputs": [
    {
     "name": "stdout",
     "output_type": "stream",
     "text": [
      "Best: 0.748698 using {'init': 'uniform', 'optimizer': 'adam', 'batch_size': 5, 'epochs': 150}\n",
      "0.707031 (0.025315) with: {'init': 'glorot_uniform', 'optimizer': 'rmsprop', 'batch_size': 5, 'epochs': 50}\n",
      "0.589844 (0.147095) with: {'init': 'glorot_uniform', 'optimizer': 'adam', 'batch_size': 5, 'epochs': 50}\n",
      "0.701823 (0.014382) with: {'init': 'normal', 'optimizer': 'rmsprop', 'batch_size': 5, 'epochs': 50}\n",
      "0.709635 (0.025780) with: {'init': 'normal', 'optimizer': 'adam', 'batch_size': 5, 'epochs': 50}\n",
      "0.717448 (0.012890) with: {'init': 'uniform', 'optimizer': 'rmsprop', 'batch_size': 5, 'epochs': 50}\n",
      "0.690104 (0.018688) with: {'init': 'uniform', 'optimizer': 'adam', 'batch_size': 5, 'epochs': 50}\n",
      "0.658854 (0.073726) with: {'init': 'glorot_uniform', 'optimizer': 'rmsprop', 'batch_size': 5, 'epochs': 100}\n",
      "0.696615 (0.026557) with: {'init': 'glorot_uniform', 'optimizer': 'adam', 'batch_size': 5, 'epochs': 100}\n",
      "0.682292 (0.046036) with: {'init': 'normal', 'optimizer': 'rmsprop', 'batch_size': 5, 'epochs': 100}\n",
      "0.722656 (0.027805) with: {'init': 'normal', 'optimizer': 'adam', 'batch_size': 5, 'epochs': 100}\n",
      "0.723958 (0.011201) with: {'init': 'uniform', 'optimizer': 'rmsprop', 'batch_size': 5, 'epochs': 100}\n",
      "0.742188 (0.030425) with: {'init': 'uniform', 'optimizer': 'adam', 'batch_size': 5, 'epochs': 100}\n",
      "0.692708 (0.036690) with: {'init': 'glorot_uniform', 'optimizer': 'rmsprop', 'batch_size': 5, 'epochs': 150}\n",
      "0.697917 (0.028940) with: {'init': 'glorot_uniform', 'optimizer': 'adam', 'batch_size': 5, 'epochs': 150}\n",
      "0.723958 (0.039879) with: {'init': 'normal', 'optimizer': 'rmsprop', 'batch_size': 5, 'epochs': 150}\n",
      "0.740885 (0.012890) with: {'init': 'normal', 'optimizer': 'adam', 'batch_size': 5, 'epochs': 150}\n",
      "0.735677 (0.012890) with: {'init': 'uniform', 'optimizer': 'rmsprop', 'batch_size': 5, 'epochs': 150}\n",
      "0.748698 (0.025780) with: {'init': 'uniform', 'optimizer': 'adam', 'batch_size': 5, 'epochs': 150}\n",
      "0.662760 (0.035132) with: {'init': 'glorot_uniform', 'optimizer': 'rmsprop', 'batch_size': 10, 'epochs': 50}\n",
      "0.651042 (0.037377) with: {'init': 'glorot_uniform', 'optimizer': 'adam', 'batch_size': 10, 'epochs': 50}\n",
      "0.704427 (0.015073) with: {'init': 'normal', 'optimizer': 'rmsprop', 'batch_size': 10, 'epochs': 50}\n",
      "0.701823 (0.006639) with: {'init': 'normal', 'optimizer': 'adam', 'batch_size': 10, 'epochs': 50}\n",
      "0.714844 (0.003189) with: {'init': 'uniform', 'optimizer': 'rmsprop', 'batch_size': 10, 'epochs': 50}\n",
      "0.682292 (0.016053) with: {'init': 'uniform', 'optimizer': 'adam', 'batch_size': 10, 'epochs': 50}\n",
      "0.691406 (0.027251) with: {'init': 'glorot_uniform', 'optimizer': 'rmsprop', 'batch_size': 10, 'epochs': 100}\n",
      "0.583333 (0.175197) with: {'init': 'glorot_uniform', 'optimizer': 'adam', 'batch_size': 10, 'epochs': 100}\n",
      "0.696615 (0.018414) with: {'init': 'normal', 'optimizer': 'rmsprop', 'batch_size': 10, 'epochs': 100}\n",
      "0.718750 (0.033299) with: {'init': 'normal', 'optimizer': 'adam', 'batch_size': 10, 'epochs': 100}\n",
      "0.718750 (0.024080) with: {'init': 'uniform', 'optimizer': 'rmsprop', 'batch_size': 10, 'epochs': 100}\n",
      "0.712240 (0.043067) with: {'init': 'uniform', 'optimizer': 'adam', 'batch_size': 10, 'epochs': 100}\n",
      "0.576823 (0.061543) with: {'init': 'glorot_uniform', 'optimizer': 'rmsprop', 'batch_size': 10, 'epochs': 150}\n",
      "0.579427 (0.180572) with: {'init': 'glorot_uniform', 'optimizer': 'adam', 'batch_size': 10, 'epochs': 150}\n",
      "0.713542 (0.013279) with: {'init': 'normal', 'optimizer': 'rmsprop', 'batch_size': 10, 'epochs': 150}\n",
      "0.690104 (0.041010) with: {'init': 'normal', 'optimizer': 'adam', 'batch_size': 10, 'epochs': 150}\n",
      "0.716146 (0.027126) with: {'init': 'uniform', 'optimizer': 'rmsprop', 'batch_size': 10, 'epochs': 150}\n",
      "0.740885 (0.022402) with: {'init': 'uniform', 'optimizer': 'adam', 'batch_size': 10, 'epochs': 150}\n",
      "0.673177 (0.022402) with: {'init': 'glorot_uniform', 'optimizer': 'rmsprop', 'batch_size': 20, 'epochs': 50}\n",
      "0.671875 (0.016877) with: {'init': 'glorot_uniform', 'optimizer': 'adam', 'batch_size': 20, 'epochs': 50}\n",
      "0.678385 (0.025780) with: {'init': 'normal', 'optimizer': 'rmsprop', 'batch_size': 20, 'epochs': 50}\n",
      "0.675781 (0.043848) with: {'init': 'normal', 'optimizer': 'adam', 'batch_size': 20, 'epochs': 50}\n",
      "0.712240 (0.016053) with: {'init': 'uniform', 'optimizer': 'rmsprop', 'batch_size': 20, 'epochs': 50}\n",
      "0.722656 (0.014616) with: {'init': 'uniform', 'optimizer': 'adam', 'batch_size': 20, 'epochs': 50}\n",
      "0.649740 (0.037783) with: {'init': 'glorot_uniform', 'optimizer': 'rmsprop', 'batch_size': 20, 'epochs': 100}\n",
      "0.700521 (0.008027) with: {'init': 'glorot_uniform', 'optimizer': 'adam', 'batch_size': 20, 'epochs': 100}\n",
      "0.701823 (0.012890) with: {'init': 'normal', 'optimizer': 'rmsprop', 'batch_size': 20, 'epochs': 100}\n",
      "0.692708 (0.013279) with: {'init': 'normal', 'optimizer': 'adam', 'batch_size': 20, 'epochs': 100}\n",
      "0.712240 (0.028940) with: {'init': 'uniform', 'optimizer': 'rmsprop', 'batch_size': 20, 'epochs': 100}\n",
      "0.725260 (0.011201) with: {'init': 'uniform', 'optimizer': 'adam', 'batch_size': 20, 'epochs': 100}\n",
      "0.697917 (0.024150) with: {'init': 'glorot_uniform', 'optimizer': 'rmsprop', 'batch_size': 20, 'epochs': 150}\n",
      "0.713542 (0.038051) with: {'init': 'glorot_uniform', 'optimizer': 'adam', 'batch_size': 20, 'epochs': 150}\n",
      "0.709635 (0.030145) with: {'init': 'normal', 'optimizer': 'rmsprop', 'batch_size': 20, 'epochs': 150}\n",
      "0.744792 (0.006639) with: {'init': 'normal', 'optimizer': 'adam', 'batch_size': 20, 'epochs': 150}\n",
      "0.725260 (0.015073) with: {'init': 'uniform', 'optimizer': 'rmsprop', 'batch_size': 20, 'epochs': 150}\n",
      "0.727865 (0.017566) with: {'init': 'uniform', 'optimizer': 'adam', 'batch_size': 20, 'epochs': 150}\n"
     ]
    }
   ],
   "source": [
    "# fix random seed for reproducibility\n",
    "seed = 7\n",
    "numpy.random.seed(seed)\n",
    "# load pima indians dataset\n",
    "dataset = numpy.loadtxt(\"pima-indians-diabetes.csv\", delimiter=\",\")\n",
    "# split into input (X) and output (Y) variables\n",
    "X = dataset[:,0:8]\n",
    "Y = dataset[:,8]\n",
    "# create model\n",
    "model = KerasClassifier(build_fn=create_model, verbose=0)\n",
    "# grid search epochs, batch size and optimizer\n",
    "optimizers = ['rmsprop', 'adam']\n",
    "inits = ['glorot_uniform', 'normal', 'uniform']\n",
    "epochs = [50, 100, 150]\n",
    "batches = [5, 10, 20]\n",
    "param_grid = dict(optimizer=optimizers, epochs=epochs, batch_size=batches, init=inits)\n",
    "grid = GridSearchCV(estimator=model, param_grid=param_grid)\n",
    "grid_result = grid.fit(X, Y)\n",
    "# summarize results\n",
    "print(\"Best: %f using %s\" % (grid_result.best_score_, grid_result.best_params_))\n",
    "means = grid_result.cv_results_['mean_test_score']\n",
    "stds = grid_result.cv_results_['std_test_score']\n",
    "params = grid_result.cv_results_['params']\n",
    "for mean, stdev, param in zip(means, stds, params):\n",
    "    print(\"%f (%f) with: %r\" % (mean, stdev, param))"
   ]
  },
  {
   "cell_type": "code",
   "execution_count": null,
   "metadata": {},
   "outputs": [],
   "source": []
  }
 ],
 "metadata": {
  "kernelspec": {
   "display_name": "Python 3",
   "language": "python",
   "name": "python3"
  },
  "language_info": {
   "codemirror_mode": {
    "name": "ipython",
    "version": 3
   },
   "file_extension": ".py",
   "mimetype": "text/x-python",
   "name": "python",
   "nbconvert_exporter": "python",
   "pygments_lexer": "ipython3",
   "version": "3.5.3"
  }
 },
 "nbformat": 4,
 "nbformat_minor": 2
}
