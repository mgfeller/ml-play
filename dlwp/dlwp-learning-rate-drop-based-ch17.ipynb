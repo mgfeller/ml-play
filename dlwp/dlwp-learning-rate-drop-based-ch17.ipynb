{
 "cells": [
  {
   "cell_type": "code",
   "execution_count": 1,
   "metadata": {},
   "outputs": [
    {
     "name": "stderr",
     "output_type": "stream",
     "text": [
      "Using Theano backend.\n"
     ]
    }
   ],
   "source": [
    "# Drop-Based Learning Rate Decay\n",
    "from pandas import read_csv\n",
    "import numpy\n",
    "import math\n",
    "from keras.models import Sequential\n",
    "from keras.layers import Dense\n",
    "from keras.optimizers import SGD\n",
    "from sklearn.preprocessing import LabelEncoder\n",
    "from keras.callbacks import LearningRateScheduler"
   ]
  },
  {
   "cell_type": "code",
   "execution_count": 2,
   "metadata": {},
   "outputs": [],
   "source": [
    "# learning rate schedule\n",
    "def step_decay(epoch):\n",
    "    initial_lrate = 0.1\n",
    "    drop = 0.5\n",
    "    epochs_drop = 10.0\n",
    "    lrate = initial_lrate * math.pow(drop, math.floor((1+epoch)/epochs_drop))\n",
    "    return lrate"
   ]
  },
  {
   "cell_type": "code",
   "execution_count": 3,
   "metadata": {},
   "outputs": [],
   "source": [
    "# fix random seed for reproducibility\n",
    "seed = 7\n",
    "numpy.random.seed(seed)\n",
    "# load dataset\n",
    "dataframe = read_csv(\"ionosphere.csv\", header=None)\n",
    "dataset = dataframe.values\n",
    "# split into input (X) and output (Y) variables\n",
    "X = dataset[:,0:34].astype(float)\n",
    "Y = dataset[:,34]\n",
    "# encode class values as integers\n",
    "encoder = LabelEncoder()\n",
    "encoder.fit(Y)\n",
    "Y = encoder.transform(Y)"
   ]
  },
  {
   "cell_type": "code",
   "execution_count": 4,
   "metadata": {},
   "outputs": [],
   "source": [
    "# create model\n",
    "model = Sequential()\n",
    "model.add(Dense(34, input_dim=34, kernel_initializer='normal', activation='relu'))\n",
    "model.add(Dense(1, kernel_initializer='normal', activation='sigmoid'))\n",
    "# Compile model\n",
    "sgd = SGD(lr=0.0, momentum=0.9, decay=0.0, nesterov=False)\n",
    "model.compile(loss='binary_crossentropy', optimizer=sgd, metrics=['accuracy'])\n",
    "# learning schedule callback\n",
    "lrate = LearningRateScheduler(step_decay)\n",
    "callbacks_list = [lrate]"
   ]
  },
  {
   "cell_type": "code",
   "execution_count": 5,
   "metadata": {},
   "outputs": [
    {
     "name": "stdout",
     "output_type": "stream",
     "text": [
      "Train on 235 samples, validate on 116 samples\n",
      "Epoch 1/50\n",
      "0s - loss: 0.6838 - acc: 0.6255 - val_loss: 0.6409 - val_acc: 0.7931\n",
      "Epoch 2/50\n",
      "0s - loss: 0.6230 - acc: 0.7830 - val_loss: 0.4786 - val_acc: 0.9224\n",
      "Epoch 3/50\n",
      "0s - loss: 0.4997 - acc: 0.8213 - val_loss: 0.3758 - val_acc: 0.9310\n",
      "Epoch 4/50\n",
      "0s - loss: 0.3612 - acc: 0.8596 - val_loss: 0.3966 - val_acc: 0.8621\n",
      "Epoch 5/50\n",
      "0s - loss: 0.2791 - acc: 0.8766 - val_loss: 0.1531 - val_acc: 0.9741\n",
      "Epoch 6/50\n",
      "0s - loss: 0.2081 - acc: 0.9362 - val_loss: 0.2334 - val_acc: 0.9224\n",
      "Epoch 7/50\n",
      "0s - loss: 0.1682 - acc: 0.9404 - val_loss: 0.1313 - val_acc: 0.9828\n",
      "Epoch 8/50\n",
      "0s - loss: 0.1510 - acc: 0.9404 - val_loss: 0.0952 - val_acc: 0.9828\n",
      "Epoch 9/50\n",
      "0s - loss: 0.1590 - acc: 0.9532 - val_loss: 0.1483 - val_acc: 0.9741\n",
      "Epoch 10/50\n",
      "0s - loss: 0.1208 - acc: 0.9660 - val_loss: 0.0905 - val_acc: 0.9914\n",
      "Epoch 11/50\n",
      "0s - loss: 0.1052 - acc: 0.9660 - val_loss: 0.1120 - val_acc: 0.9914\n",
      "Epoch 12/50\n",
      "0s - loss: 0.1005 - acc: 0.9745 - val_loss: 0.0819 - val_acc: 0.9914\n",
      "Epoch 13/50\n",
      "0s - loss: 0.1044 - acc: 0.9660 - val_loss: 0.1051 - val_acc: 0.9914\n",
      "Epoch 14/50\n",
      "0s - loss: 0.0916 - acc: 0.9702 - val_loss: 0.0828 - val_acc: 0.9914\n",
      "Epoch 15/50\n",
      "0s - loss: 0.0881 - acc: 0.9745 - val_loss: 0.0860 - val_acc: 0.9914\n",
      "Epoch 16/50\n",
      "0s - loss: 0.0862 - acc: 0.9745 - val_loss: 0.0847 - val_acc: 0.9914\n",
      "Epoch 17/50\n",
      "0s - loss: 0.0804 - acc: 0.9787 - val_loss: 0.0948 - val_acc: 0.9914\n",
      "Epoch 18/50\n",
      "0s - loss: 0.0752 - acc: 0.9830 - val_loss: 0.0799 - val_acc: 0.9914\n",
      "Epoch 19/50\n",
      "0s - loss: 0.0717 - acc: 0.9830 - val_loss: 0.0859 - val_acc: 0.9914\n",
      "Epoch 20/50\n",
      "0s - loss: 0.0689 - acc: 0.9830 - val_loss: 0.0705 - val_acc: 0.9914\n",
      "Epoch 21/50\n",
      "0s - loss: 0.0688 - acc: 0.9830 - val_loss: 0.0853 - val_acc: 0.9914\n",
      "Epoch 22/50\n",
      "0s - loss: 0.0655 - acc: 0.9830 - val_loss: 0.0801 - val_acc: 0.9914\n",
      "Epoch 23/50\n",
      "0s - loss: 0.0653 - acc: 0.9830 - val_loss: 0.0742 - val_acc: 0.9914\n",
      "Epoch 24/50\n",
      "0s - loss: 0.0631 - acc: 0.9830 - val_loss: 0.0853 - val_acc: 0.9914\n",
      "Epoch 25/50\n",
      "0s - loss: 0.0613 - acc: 0.9830 - val_loss: 0.0767 - val_acc: 0.9914\n",
      "Epoch 26/50\n",
      "0s - loss: 0.0610 - acc: 0.9830 - val_loss: 0.0786 - val_acc: 0.9914\n",
      "Epoch 27/50\n",
      "0s - loss: 0.0589 - acc: 0.9830 - val_loss: 0.0799 - val_acc: 0.9914\n",
      "Epoch 28/50\n",
      "0s - loss: 0.0585 - acc: 0.9830 - val_loss: 0.0788 - val_acc: 0.9914\n",
      "Epoch 29/50\n",
      "0s - loss: 0.0572 - acc: 0.9830 - val_loss: 0.0784 - val_acc: 0.9914\n",
      "Epoch 30/50\n",
      "0s - loss: 0.0569 - acc: 0.9830 - val_loss: 0.0728 - val_acc: 0.9914\n",
      "Epoch 31/50\n",
      "0s - loss: 0.0562 - acc: 0.9830 - val_loss: 0.0796 - val_acc: 0.9914\n",
      "Epoch 32/50\n",
      "0s - loss: 0.0551 - acc: 0.9830 - val_loss: 0.0797 - val_acc: 0.9914\n",
      "Epoch 33/50\n",
      "0s - loss: 0.0541 - acc: 0.9830 - val_loss: 0.0758 - val_acc: 0.9914\n",
      "Epoch 34/50\n",
      "0s - loss: 0.0544 - acc: 0.9830 - val_loss: 0.0758 - val_acc: 0.9914\n",
      "Epoch 35/50\n",
      "0s - loss: 0.0540 - acc: 0.9830 - val_loss: 0.0810 - val_acc: 0.9914\n",
      "Epoch 36/50\n",
      "0s - loss: 0.0528 - acc: 0.9830 - val_loss: 0.0774 - val_acc: 0.9914\n",
      "Epoch 37/50\n",
      "0s - loss: 0.0524 - acc: 0.9830 - val_loss: 0.0754 - val_acc: 0.9914\n",
      "Epoch 38/50\n",
      "0s - loss: 0.0523 - acc: 0.9830 - val_loss: 0.0767 - val_acc: 0.9914\n",
      "Epoch 39/50\n",
      "0s - loss: 0.0519 - acc: 0.9830 - val_loss: 0.0720 - val_acc: 0.9914\n",
      "Epoch 40/50\n",
      "0s - loss: 0.0513 - acc: 0.9830 - val_loss: 0.0735 - val_acc: 0.9914\n",
      "Epoch 41/50\n",
      "0s - loss: 0.0506 - acc: 0.9830 - val_loss: 0.0779 - val_acc: 0.9914\n",
      "Epoch 42/50\n",
      "0s - loss: 0.0508 - acc: 0.9830 - val_loss: 0.0769 - val_acc: 0.9914\n",
      "Epoch 43/50\n",
      "0s - loss: 0.0506 - acc: 0.9872 - val_loss: 0.0755 - val_acc: 0.9914\n",
      "Epoch 44/50\n",
      "0s - loss: 0.0504 - acc: 0.9830 - val_loss: 0.0753 - val_acc: 0.9914\n",
      "Epoch 45/50\n",
      "0s - loss: 0.0504 - acc: 0.9830 - val_loss: 0.0731 - val_acc: 0.9914\n",
      "Epoch 46/50\n",
      "0s - loss: 0.0501 - acc: 0.9830 - val_loss: 0.0734 - val_acc: 0.9914\n",
      "Epoch 47/50\n",
      "0s - loss: 0.0507 - acc: 0.9872 - val_loss: 0.0778 - val_acc: 0.9914\n",
      "Epoch 48/50\n",
      "0s - loss: 0.0495 - acc: 0.9872 - val_loss: 0.0766 - val_acc: 0.9914\n",
      "Epoch 49/50\n",
      "0s - loss: 0.0495 - acc: 0.9872 - val_loss: 0.0730 - val_acc: 0.9914\n",
      "Epoch 50/50\n",
      "0s - loss: 0.0493 - acc: 0.9872 - val_loss: 0.0766 - val_acc: 0.9914\n"
     ]
    },
    {
     "data": {
      "text/plain": [
       "<keras.callbacks.History at 0x7fe369063d30>"
      ]
     },
     "execution_count": 5,
     "metadata": {},
     "output_type": "execute_result"
    }
   ],
   "source": [
    "# Fit the model\n",
    "model.fit(X, Y, validation_split=0.33, epochs=50, batch_size=28, callbacks=callbacks_list, verbose=2)"
   ]
  },
  {
   "cell_type": "code",
   "execution_count": null,
   "metadata": {},
   "outputs": [],
   "source": []
  }
 ],
 "metadata": {
  "kernelspec": {
   "display_name": "Python 3",
   "language": "python",
   "name": "python3"
  },
  "language_info": {
   "codemirror_mode": {
    "name": "ipython",
    "version": 3
   },
   "file_extension": ".py",
   "mimetype": "text/x-python",
   "name": "python",
   "nbconvert_exporter": "python",
   "pygments_lexer": "ipython3",
   "version": "3.5.3"
  }
 },
 "nbformat": 4,
 "nbformat_minor": 2
}
