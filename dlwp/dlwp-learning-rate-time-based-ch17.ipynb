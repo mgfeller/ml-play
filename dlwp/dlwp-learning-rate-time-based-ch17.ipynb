{
 "cells": [
  {
   "cell_type": "code",
   "execution_count": 2,
   "metadata": {},
   "outputs": [
    {
     "name": "stderr",
     "output_type": "stream",
     "text": [
      "Using Theano backend.\n"
     ]
    }
   ],
   "source": [
    "# Time Based Learning Rate Decay\n",
    "from pandas import read_csv\n",
    "import numpy\n",
    "from keras.models import Sequential\n",
    "from keras.layers import Dense\n",
    "from keras.optimizers import SGD\n",
    "from sklearn.preprocessing import LabelEncoder"
   ]
  },
  {
   "cell_type": "code",
   "execution_count": 3,
   "metadata": {},
   "outputs": [],
   "source": [
    "# fix random seed for reproducibility\n",
    "seed = 7\n",
    "numpy.random.seed(seed)"
   ]
  },
  {
   "cell_type": "code",
   "execution_count": 4,
   "metadata": {},
   "outputs": [],
   "source": [
    "# load dataset\n",
    "dataframe = read_csv(\"ionosphere.csv\", header=None)\n",
    "dataset = dataframe.values\n",
    "# split into input (X) and output (Y) variables\n",
    "X = dataset[:,0:34].astype(float)\n",
    "Y = dataset[:,34]\n",
    "# encode class values as integers\n",
    "encoder = LabelEncoder()\n",
    "encoder.fit(Y)\n",
    "Y = encoder.transform(Y)"
   ]
  },
  {
   "cell_type": "code",
   "execution_count": 5,
   "metadata": {},
   "outputs": [],
   "source": [
    "# create model\n",
    "model = Sequential()\n",
    "model.add(Dense(34, input_dim=34, kernel_initializer='normal', activation='relu'))\n",
    "model.add(Dense(1, kernel_initializer='normal', activation='sigmoid'))\n",
    "# Compile model\n",
    "epochs = 50\n",
    "learning_rate = 0.1\n",
    "decay_rate = learning_rate / epochs\n",
    "momentum = 0.8\n",
    "sgd = SGD(lr=learning_rate, momentum=momentum, decay=decay_rate, nesterov=False)\n",
    "model.compile(loss='binary_crossentropy', optimizer=sgd, metrics=['accuracy'])"
   ]
  },
  {
   "cell_type": "code",
   "execution_count": 6,
   "metadata": {},
   "outputs": [
    {
     "name": "stdout",
     "output_type": "stream",
     "text": [
      "Train on 235 samples, validate on 116 samples\n",
      "Epoch 1/50\n",
      "0s - loss: 0.6848 - acc: 0.6298 - val_loss: 0.6542 - val_acc: 0.7500\n",
      "Epoch 2/50\n",
      "0s - loss: 0.6427 - acc: 0.7702 - val_loss: 0.5457 - val_acc: 0.9224\n",
      "Epoch 3/50\n",
      "0s - loss: 0.5621 - acc: 0.8128 - val_loss: 0.4666 - val_acc: 0.9224\n",
      "Epoch 4/50\n",
      "0s - loss: 0.4713 - acc: 0.8340 - val_loss: 0.4340 - val_acc: 0.9310\n",
      "Epoch 5/50\n",
      "0s - loss: 0.3882 - acc: 0.8638 - val_loss: 0.2812 - val_acc: 0.9483\n",
      "Epoch 6/50\n",
      "0s - loss: 0.3239 - acc: 0.8936 - val_loss: 0.4065 - val_acc: 0.8534\n",
      "Epoch 7/50\n",
      "0s - loss: 0.2785 - acc: 0.9064 - val_loss: 0.2143 - val_acc: 0.9655\n",
      "Epoch 8/50\n",
      "0s - loss: 0.2451 - acc: 0.9234 - val_loss: 0.1472 - val_acc: 0.9655\n",
      "Epoch 9/50\n",
      "0s - loss: 0.2398 - acc: 0.9106 - val_loss: 0.2265 - val_acc: 0.9483\n",
      "Epoch 10/50\n",
      "0s - loss: 0.2005 - acc: 0.9362 - val_loss: 0.2429 - val_acc: 0.9310\n",
      "Epoch 11/50\n",
      "0s - loss: 0.1887 - acc: 0.9362 - val_loss: 0.1737 - val_acc: 0.9655\n",
      "Epoch 12/50\n",
      "0s - loss: 0.1689 - acc: 0.9489 - val_loss: 0.1088 - val_acc: 0.9741\n",
      "Epoch 13/50\n",
      "0s - loss: 0.1806 - acc: 0.9277 - val_loss: 0.1071 - val_acc: 0.9828\n",
      "Epoch 14/50\n",
      "0s - loss: 0.1608 - acc: 0.9404 - val_loss: 0.1554 - val_acc: 0.9655\n",
      "Epoch 15/50\n",
      "0s - loss: 0.1408 - acc: 0.9532 - val_loss: 0.1002 - val_acc: 0.9914\n",
      "Epoch 16/50\n",
      "0s - loss: 0.1396 - acc: 0.9489 - val_loss: 0.1573 - val_acc: 0.9655\n",
      "Epoch 17/50\n",
      "0s - loss: 0.1379 - acc: 0.9574 - val_loss: 0.1443 - val_acc: 0.9655\n",
      "Epoch 18/50\n",
      "0s - loss: 0.1281 - acc: 0.9532 - val_loss: 0.1155 - val_acc: 0.9914\n",
      "Epoch 19/50\n",
      "0s - loss: 0.1193 - acc: 0.9617 - val_loss: 0.0982 - val_acc: 0.9914\n",
      "Epoch 20/50\n",
      "0s - loss: 0.1160 - acc: 0.9660 - val_loss: 0.1290 - val_acc: 0.9828\n",
      "Epoch 21/50\n",
      "0s - loss: 0.1089 - acc: 0.9660 - val_loss: 0.0941 - val_acc: 0.9914\n",
      "Epoch 22/50\n",
      "0s - loss: 0.1051 - acc: 0.9702 - val_loss: 0.1115 - val_acc: 0.9914\n",
      "Epoch 23/50\n",
      "0s - loss: 0.1059 - acc: 0.9660 - val_loss: 0.1018 - val_acc: 0.9914\n",
      "Epoch 24/50\n",
      "0s - loss: 0.0979 - acc: 0.9787 - val_loss: 0.0819 - val_acc: 0.9914\n",
      "Epoch 25/50\n",
      "0s - loss: 0.1054 - acc: 0.9702 - val_loss: 0.1097 - val_acc: 0.9914\n",
      "Epoch 26/50\n",
      "0s - loss: 0.0936 - acc: 0.9745 - val_loss: 0.0883 - val_acc: 0.9914\n",
      "Epoch 27/50\n",
      "0s - loss: 0.0907 - acc: 0.9787 - val_loss: 0.0952 - val_acc: 0.9914\n",
      "Epoch 28/50\n",
      "0s - loss: 0.0869 - acc: 0.9787 - val_loss: 0.0896 - val_acc: 0.9914\n",
      "Epoch 29/50\n",
      "0s - loss: 0.0822 - acc: 0.9787 - val_loss: 0.0893 - val_acc: 0.9914\n",
      "Epoch 30/50\n",
      "0s - loss: 0.0831 - acc: 0.9787 - val_loss: 0.0944 - val_acc: 0.9914\n",
      "Epoch 31/50\n",
      "0s - loss: 0.0802 - acc: 0.9830 - val_loss: 0.0859 - val_acc: 0.9914\n",
      "Epoch 32/50\n",
      "0s - loss: 0.0774 - acc: 0.9830 - val_loss: 0.0841 - val_acc: 0.9914\n",
      "Epoch 33/50\n",
      "0s - loss: 0.0726 - acc: 0.9830 - val_loss: 0.0871 - val_acc: 0.9914\n",
      "Epoch 34/50\n",
      "0s - loss: 0.0752 - acc: 0.9830 - val_loss: 0.0980 - val_acc: 0.9914\n",
      "Epoch 35/50\n",
      "0s - loss: 0.0713 - acc: 0.9830 - val_loss: 0.0811 - val_acc: 0.9914\n",
      "Epoch 36/50\n",
      "0s - loss: 0.0689 - acc: 0.9830 - val_loss: 0.0786 - val_acc: 0.9914\n",
      "Epoch 37/50\n",
      "0s - loss: 0.0665 - acc: 0.9830 - val_loss: 0.0876 - val_acc: 0.9914\n",
      "Epoch 38/50\n",
      "0s - loss: 0.0666 - acc: 0.9830 - val_loss: 0.0755 - val_acc: 0.9914\n",
      "Epoch 39/50\n",
      "0s - loss: 0.0689 - acc: 0.9830 - val_loss: 0.0834 - val_acc: 0.9914\n",
      "Epoch 40/50\n",
      "0s - loss: 0.0644 - acc: 0.9830 - val_loss: 0.0786 - val_acc: 0.9914\n",
      "Epoch 41/50\n",
      "0s - loss: 0.0614 - acc: 0.9830 - val_loss: 0.0863 - val_acc: 0.9914\n",
      "Epoch 42/50\n",
      "0s - loss: 0.0619 - acc: 0.9830 - val_loss: 0.0827 - val_acc: 0.9914\n",
      "Epoch 43/50\n",
      "0s - loss: 0.0604 - acc: 0.9830 - val_loss: 0.0786 - val_acc: 0.9914\n",
      "Epoch 44/50\n",
      "0s - loss: 0.0601 - acc: 0.9830 - val_loss: 0.0683 - val_acc: 0.9914\n",
      "Epoch 45/50\n",
      "0s - loss: 0.0575 - acc: 0.9830 - val_loss: 0.0896 - val_acc: 0.9914\n",
      "Epoch 46/50\n",
      "0s - loss: 0.0621 - acc: 0.9872 - val_loss: 0.0701 - val_acc: 0.9914\n",
      "Epoch 47/50\n",
      "0s - loss: 0.0611 - acc: 0.9872 - val_loss: 0.0643 - val_acc: 0.9914\n",
      "Epoch 48/50\n",
      "0s - loss: 0.0577 - acc: 0.9830 - val_loss: 0.0800 - val_acc: 0.9914\n",
      "Epoch 49/50\n",
      "0s - loss: 0.0534 - acc: 0.9830 - val_loss: 0.0780 - val_acc: 0.9914\n",
      "Epoch 50/50\n",
      "0s - loss: 0.0541 - acc: 0.9830 - val_loss: 0.0654 - val_acc: 0.9914\n"
     ]
    },
    {
     "data": {
      "text/plain": [
       "<keras.callbacks.History at 0x7f32a3ec67b8>"
      ]
     },
     "execution_count": 6,
     "metadata": {},
     "output_type": "execute_result"
    }
   ],
   "source": [
    "# Fit the model\n",
    "model.fit(X, Y, validation_split=0.33, epochs=epochs, batch_size=28, verbose=2)"
   ]
  },
  {
   "cell_type": "code",
   "execution_count": null,
   "metadata": {},
   "outputs": [],
   "source": []
  }
 ],
 "metadata": {
  "kernelspec": {
   "display_name": "Python 3",
   "language": "python",
   "name": "python3"
  },
  "language_info": {
   "codemirror_mode": {
    "name": "ipython",
    "version": 3
   },
   "file_extension": ".py",
   "mimetype": "text/x-python",
   "name": "python",
   "nbconvert_exporter": "python",
   "pygments_lexer": "ipython3",
   "version": "3.5.3"
  }
 },
 "nbformat": 4,
 "nbformat_minor": 2
}
